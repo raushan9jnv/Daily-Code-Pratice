{
  "nbformat": 4,
  "nbformat_minor": 0,
  "metadata": {
    "colab": {
      "name": "Untitled18.ipynb",
      "provenance": [],
      "authorship_tag": "ABX9TyND6P1VU9Xnd50ZnWOji28L",
      "include_colab_link": true
    },
    "kernelspec": {
      "name": "python3",
      "display_name": "Python 3"
    },
    "language_info": {
      "name": "python"
    }
  },
  "cells": [
    {
      "cell_type": "markdown",
      "metadata": {
        "id": "view-in-github",
        "colab_type": "text"
      },
      "source": [
        "<a href=\"https://colab.research.google.com/github/raushan9jnv/Daily-Code-Pratice/blob/main/Untitled18.ipynb\" target=\"_parent\"><img src=\"https://colab.research.google.com/assets/colab-badge.svg\" alt=\"Open In Colab\"/></a>"
      ]
    },
    {
      "cell_type": "code",
      "metadata": {
        "id": "CObpXLGnBHfJ"
      },
      "source": [
        "help(round(-2.01))"
      ],
      "execution_count": null,
      "outputs": []
    },
    {
      "cell_type": "code",
      "metadata": {
        "colab": {
          "base_uri": "https://localhost:8080/"
        },
        "id": "rLmk1jjYCP2T",
        "outputId": "60104de3-b626-4366-f166-058470211d33"
      },
      "source": [
        "help(print)"
      ],
      "execution_count": null,
      "outputs": [
        {
          "output_type": "stream",
          "text": [
            "Help on built-in function print in module builtins:\n",
            "\n",
            "print(...)\n",
            "    print(value, ..., sep=' ', end='\\n', file=sys.stdout, flush=False)\n",
            "    \n",
            "    Prints the values to a stream, or to sys.stdout by default.\n",
            "    Optional keyword arguments:\n",
            "    file:  a file-like object (stream); defaults to the current sys.stdout.\n",
            "    sep:   string inserted between values, default a space.\n",
            "    end:   string appended after the last value, default a newline.\n",
            "    flush: whether to forcibly flush the stream.\n",
            "\n"
          ],
          "name": "stdout"
        }
      ]
    },
    {
      "cell_type": "code",
      "metadata": {
        "id": "YpJ-A88sDLxu"
      },
      "source": [
        "def least_difference(a, b, c):\n",
        "    \"\"\"Return the smallest difference between any two numbers\n",
        "    among a, b and c.\n",
        "    \n",
        "    >>> least_difference(1, 5, -5)\n",
        "    4\n",
        "    \"\"\"\n",
        "    diff1 = abs(a - b)\n",
        "    diff2 = abs(b - c)\n",
        "    diff3 = abs(a - c)\n",
        "    return min(diff1, diff2, diff3)"
      ],
      "execution_count": null,
      "outputs": []
    },
    {
      "cell_type": "code",
      "metadata": {
        "colab": {
          "base_uri": "https://localhost:8080/"
        },
        "id": "NxYmw7nzDM1-",
        "outputId": "c98ce593-bca0-488e-cc31-ca38f77e8b64"
      },
      "source": [
        "help(least_difference)"
      ],
      "execution_count": null,
      "outputs": [
        {
          "output_type": "stream",
          "text": [
            "Help on function least_difference in module __main__:\n",
            "\n",
            "least_difference(a, b, c)\n",
            "    Return the smallest difference between any two numbers\n",
            "    among a, b and c.\n",
            "    \n",
            "    >>> least_difference(1, 5, -5)\n",
            "    4\n",
            "\n"
          ],
          "name": "stdout"
        }
      ]
    },
    {
      "cell_type": "code",
      "metadata": {
        "colab": {
          "base_uri": "https://localhost:8080/"
        },
        "id": "fjILpK57EEmv",
        "outputId": "1a113fce-3a6e-4ce4-9a56-f91618d3e5e8"
      },
      "source": [
        "mystery = print()\n",
        "print(mystery)"
      ],
      "execution_count": null,
      "outputs": [
        {
          "output_type": "stream",
          "text": [
            "\n",
            "None\n"
          ],
          "name": "stdout"
        }
      ]
    },
    {
      "cell_type": "code",
      "metadata": {
        "colab": {
          "base_uri": "https://localhost:8080/"
        },
        "id": "asb4WeT4ESVt",
        "outputId": "14983798-18e8-44bf-be28-19544791af28"
      },
      "source": [
        "print(1,2,3, sep='>>')"
      ],
      "execution_count": null,
      "outputs": [
        {
          "output_type": "stream",
          "text": [
            "1>>2>>3\n"
          ],
          "name": "stdout"
        }
      ]
    },
    {
      "cell_type": "code",
      "metadata": {
        "colab": {
          "base_uri": "https://localhost:8080/"
        },
        "id": "xgYOKUgYF2LI",
        "outputId": "63a6b8a3-ee1f-4e96-b27f-3ac9a8e12978"
      },
      "source": [
        "def mult_by_five(x):\n",
        "    return 5 * x\n",
        "\n",
        "def call(fn, arg):\n",
        "    \"\"\"Call fn on arg\"\"\"\n",
        "    return fn(arg)\n",
        "\n",
        "def squared_call(fn, arg):\n",
        "    \"\"\"Call fn on the result of calling fn on arg\"\"\"\n",
        "    return fn(fn(arg))\n",
        "\n",
        "print(\n",
        "    call(mult_by_five, 1),\n",
        "    squared_call(mult_by_five, 1), \n",
        "    sep='\\n', # '\\n' is the newline character - it starts a new line\n",
        ")"
      ],
      "execution_count": null,
      "outputs": [
        {
          "output_type": "stream",
          "text": [
            "5\n",
            "25\n"
          ],
          "name": "stdout"
        }
      ]
    },
    {
      "cell_type": "code",
      "metadata": {
        "colab": {
          "base_uri": "https://localhost:8080/"
        },
        "id": "jrvX4Vx0HnPF",
        "outputId": "84d9021b-5788-4b1b-91ec-0bbd7d043177"
      },
      "source": [
        "# Put your test code here\n",
        "def round_to_two_places(num):\n",
        "    \"\"\"Return the given number rounded to two decimal places. \n",
        "    \n",
        "    >>> round_to_two_places(3.14159)\n",
        "    3.14\n",
        "    \"\"\"\n",
        "    return round(num,-4)\n",
        "    # Replace this body with your own code.\n",
        "    # (\"pass\" is a keyword that does literally nothing. We used it as a placeholder\n",
        "    # because after we begin a code block, Python requires at least one line of code)\n",
        "print(round_to_two_places(2166086))"
      ],
      "execution_count": null,
      "outputs": [
        {
          "output_type": "stream",
          "text": [
            "2170000\n"
          ],
          "name": "stdout"
        }
      ]
    },
    {
      "cell_type": "code",
      "metadata": {
        "colab": {
          "base_uri": "https://localhost:8080/"
        },
        "id": "h8G6ZviRSPPE",
        "outputId": "1d829bb8-358a-476a-c5b0-62cbc444c44f"
      },
      "source": [
        "def to_smash(total_candies):\n",
        "    \"\"\"Return the number of leftover candies that must be smashed after distributing\n",
        "    the given number of candies evenly between 3 friends.\n",
        "    \n",
        "    >>> to_smash(91)\n",
        "    1\n",
        "    \"\"\"\n",
        "    print(\"Splitting\", total_candies, \"candies\")\n",
        "    return total_candies % 3\n",
        "\n",
        "#to_smash(91)\n",
        "to_smash(1)"
      ],
      "execution_count": 2,
      "outputs": [
        {
          "output_type": "stream",
          "text": [
            "Splitting 1 candies\n"
          ],
          "name": "stdout"
        },
        {
          "output_type": "execute_result",
          "data": {
            "text/plain": [
              "1"
            ]
          },
          "metadata": {
            "tags": []
          },
          "execution_count": 2
        }
      ]
    },
    {
      "cell_type": "code",
      "metadata": {
        "id": "luw1k3xuXP0e"
      },
      "source": [
        "def onionless(ketchup, mustard, onion):\n",
        "    \"\"\"Return whether the customer doesn't want onions.\n",
        "    \"\"\"\n",
        "    return not onion"
      ],
      "execution_count": 3,
      "outputs": []
    },
    {
      "cell_type": "code",
      "metadata": {
        "colab": {
          "base_uri": "https://localhost:8080/"
        },
        "id": "qp0E6Rp8XR08",
        "outputId": "c26486cb-7976-4d35-fa07-59ca9b6f0aed"
      },
      "source": [
        "onionless('k',True,9)"
      ],
      "execution_count": 14,
      "outputs": [
        {
          "output_type": "execute_result",
          "data": {
            "text/plain": [
              "False"
            ]
          },
          "metadata": {
            "tags": []
          },
          "execution_count": 14
        }
      ]
    },
    {
      "cell_type": "code",
      "metadata": {
        "id": "e2IVVpopXxT8"
      },
      "source": [
        "def wants_all_toppings(ketchup, mustard, onion):\n",
        "    \"\"\"Return whether the customer wants \"the works\" (all 3 toppings)\n",
        "    \"\"\"\n",
        "    return ketchup and mustard and onion\n",
        "    pass"
      ],
      "execution_count": 15,
      "outputs": []
    },
    {
      "cell_type": "code",
      "metadata": {
        "id": "qW2Swt9DYX-6"
      },
      "source": [
        "rue"
      ],
      "execution_count": null,
      "outputs": []
    },
    {
      "cell_type": "code",
      "metadata": {
        "id": "wygn0BjtYTsM",
        "outputId": "6b809958-b445-4a1d-f604-701f43416d91",
        "colab": {
          "base_uri": "https://localhost:8080/"
        }
      },
      "source": [
        "wants_all_toppings(True,1,1)"
      ],
      "execution_count": 21,
      "outputs": [
        {
          "output_type": "execute_result",
          "data": {
            "text/plain": [
              "1"
            ]
          },
          "metadata": {
            "tags": []
          },
          "execution_count": 21
        }
      ]
    }
  ]
}